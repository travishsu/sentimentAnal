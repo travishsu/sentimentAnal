{
 "cells": [
  {
   "cell_type": "code",
   "execution_count": 16,
   "metadata": {
    "collapsed": true
   },
   "outputs": [],
   "source": [
    "import tensorflow as tf\n",
    "import numpy as np\n",
    "import pandas as pd\n",
    "import re"
   ]
  },
  {
   "cell_type": "code",
   "execution_count": 20,
   "metadata": {
    "collapsed": true
   },
   "outputs": [],
   "source": [
    "def list2dict(ls):\n",
    "    dic = dict()\n",
    "    for term in ls:\n",
    "        if term not in dic:\n",
    "            dic[term] = 1\n",
    "        else:\n",
    "            dic[term] += 1\n",
    "    return dic\n",
    "\n",
    "def data_formating(raw_df):\n",
    "    df = raw_df.assign(PhraseSplit=raw_df.Phrase.apply(lambda s: list2dict(str.split(s, \" \"))))\n",
    "    df = df.assign(WordTotal=df.PhraseSplit.apply(lambda l: len(l)))\n",
    "    return df"
   ]
  },
  {
   "cell_type": "code",
   "execution_count": 24,
   "metadata": {
    "collapsed": false
   },
   "outputs": [],
   "source": [
    "data = pd.read_csv(\"train.tsv\", sep=\"\\t\")\n",
    "data = data_formating(data).reset_index().drop('index', 1).sort_values('WordTotal').reset_index().drop('index', axis=1)"
   ]
  },
  {
   "cell_type": "code",
   "execution_count": 25,
   "metadata": {
    "collapsed": false
   },
   "outputs": [],
   "source": [
    "NV = max(data[data.WordTotal==1].index)"
   ]
  },
  {
   "cell_type": "code",
   "execution_count": 26,
   "metadata": {
    "collapsed": false
   },
   "outputs": [],
   "source": [
    "d = 40\n",
    "P = tf.Variable(tf.random_normal([d, data.shape[0]]))\n",
    "Ws = tf.Variable(tf.random_normal([5, d]))\n",
    "W  = tf.Variable(tf.random_normal([d, 2*d]))\n",
    "\n",
    "Pword = P[:, :NV]"
   ]
  },
  {
   "cell_type": "code",
   "execution_count": 27,
   "metadata": {
    "collapsed": true
   },
   "outputs": [],
   "source": [
    "def childPhrase(idx):\n",
    "    sid = data.ix[idx].SentenceId\n",
    "    numword = data.ix[idx].WordTotal\n",
    "    if numword==1:\n",
    "        return (None, None)\n",
    "    phrase = data.ix[idx].Phrase\n",
    "    perhapChild = data[(data.WordTotal < numword) & (data.SentenceId==sid)]\n",
    "    childs = perhapChild[perhapChild.Phrase.apply(lambda p: True if p in phrase else False)].sort_values('WordTotal', ascending=False)\n",
    "    bigChild = childs.iloc[0]\n",
    "    numchild = bigChild.WordTotal\n",
    "    perhaplittlechild = childs[childs.WordTotal==numword-numchild]\n",
    "\n",
    "    if bigChild.Phrase[0] == phrase[0]:\n",
    "        regex = r\"^\"+ re.escape(bigChild.Phrase)+ r\" (.+)$\"\n",
    "        match = re.search(regex, phrase)\n",
    "        bigFirst = True\n",
    "    else:\n",
    "        regex = r\"^(.+) \"+ re.escape(bigChild.Phrase)+ r\"$\"\n",
    "        match = re.search(regex, phrase)\n",
    "        bigFirst = False\n",
    "\n",
    "    littleChild = childs[childs.Phrase==match.group(1)].iloc[0]\n",
    "\n",
    "    if bigFirst:\n",
    "        return (bigChild.index, littleChild.index)\n",
    "    else:\n",
    "        return (littleChild.index, bigChild.index)"
   ]
  },
  {
   "cell_type": "code",
   "execution_count": 30,
   "metadata": {
    "collapsed": false
   },
   "outputs": [
    {
     "data": {
      "text/plain": [
       "2"
      ]
     },
     "execution_count": 30,
     "metadata": {},
     "output_type": "execute_result"
    }
   ],
   "source": [
    "childPhrase(1,1)"
   ]
  },
  {
   "cell_type": "code",
   "execution_count": 29,
   "metadata": {
    "collapsed": false
   },
   "outputs": [
    {
     "data": {
      "text/html": [
       "<div>\n",
       "<table border=\"1\" class=\"dataframe\">\n",
       "  <thead>\n",
       "    <tr style=\"text-align: right;\">\n",
       "      <th></th>\n",
       "      <th>PhraseId</th>\n",
       "      <th>SentenceId</th>\n",
       "      <th>Phrase</th>\n",
       "      <th>Sentiment</th>\n",
       "      <th>PhraseSplit</th>\n",
       "      <th>WordTotal</th>\n",
       "    </tr>\n",
       "  </thead>\n",
       "  <tbody>\n",
       "    <tr>\n",
       "      <th>0</th>\n",
       "      <td>156060</td>\n",
       "      <td>8544</td>\n",
       "      <td>chortles</td>\n",
       "      <td>2</td>\n",
       "      <td>{u'chortles': 1}</td>\n",
       "      <td>1</td>\n",
       "    </tr>\n",
       "    <tr>\n",
       "      <th>1</th>\n",
       "      <td>43621</td>\n",
       "      <td>2111</td>\n",
       "      <td>authority</td>\n",
       "      <td>2</td>\n",
       "      <td>{u'authority': 1}</td>\n",
       "      <td>1</td>\n",
       "    </tr>\n",
       "    <tr>\n",
       "      <th>2</th>\n",
       "      <td>43619</td>\n",
       "      <td>2111</td>\n",
       "      <td>unmistakable</td>\n",
       "      <td>2</td>\n",
       "      <td>{u'unmistakable': 1}</td>\n",
       "      <td>1</td>\n",
       "    </tr>\n",
       "    <tr>\n",
       "      <th>3</th>\n",
       "      <td>43615</td>\n",
       "      <td>2111</td>\n",
       "      <td>bearing</td>\n",
       "      <td>2</td>\n",
       "      <td>{u'bearing': 1}</td>\n",
       "      <td>1</td>\n",
       "    </tr>\n",
       "    <tr>\n",
       "      <th>4</th>\n",
       "      <td>43602</td>\n",
       "      <td>2110</td>\n",
       "      <td>accompanies</td>\n",
       "      <td>2</td>\n",
       "      <td>{u'accompanies': 1}</td>\n",
       "      <td>1</td>\n",
       "    </tr>\n",
       "  </tbody>\n",
       "</table>\n",
       "</div>"
      ],
      "text/plain": [
       "   PhraseId  SentenceId        Phrase  Sentiment           PhraseSplit  \\\n",
       "0    156060        8544      chortles          2      {u'chortles': 1}   \n",
       "1     43621        2111     authority          2     {u'authority': 1}   \n",
       "2     43619        2111  unmistakable          2  {u'unmistakable': 1}   \n",
       "3     43615        2111       bearing          2       {u'bearing': 1}   \n",
       "4     43602        2110   accompanies          2   {u'accompanies': 1}   \n",
       "\n",
       "   WordTotal  \n",
       "0          1  \n",
       "1          1  \n",
       "2          1  \n",
       "3          1  \n",
       "4          1  "
      ]
     },
     "execution_count": 29,
     "metadata": {},
     "output_type": "execute_result"
    }
   ],
   "source": [
    "data.head()"
   ]
  },
  {
   "cell_type": "code",
   "execution_count": 31,
   "metadata": {
    "collapsed": false
   },
   "outputs": [
    {
     "data": {
      "text/plain": [
       "1"
      ]
     },
     "execution_count": 31,
     "metadata": {},
     "output_type": "execute_result"
    }
   ],
   "source": [
    "data.ix[2].WordTotal"
   ]
  },
  {
   "cell_type": "code",
   "execution_count": null,
   "metadata": {
    "collapsed": true
   },
   "outputs": [],
   "source": []
  }
 ],
 "metadata": {
  "kernelspec": {
   "display_name": "Python 2",
   "language": "python",
   "name": "python2"
  },
  "language_info": {
   "codemirror_mode": {
    "name": "ipython",
    "version": 2
   },
   "file_extension": ".py",
   "mimetype": "text/x-python",
   "name": "python",
   "nbconvert_exporter": "python",
   "pygments_lexer": "ipython2",
   "version": "2.7.12"
  }
 },
 "nbformat": 4,
 "nbformat_minor": 0
}
