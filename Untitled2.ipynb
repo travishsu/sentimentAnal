{
 "cells": [
  {
   "cell_type": "code",
   "execution_count": 1,
   "metadata": {
    "collapsed": true
   },
   "outputs": [],
   "source": [
    "import tensorflow as tf\n",
    "import numpy as np\n",
    "import pandas as pd"
   ]
  },
  {
   "cell_type": "code",
   "execution_count": 2,
   "metadata": {
    "collapsed": true
   },
   "outputs": [],
   "source": [
    "def list2dict(ls):\n",
    "    dic = dict()\n",
    "    for term in ls:\n",
    "        if term not in dic:\n",
    "            dic[term] = 1\n",
    "        else:\n",
    "            dic[term] += 1\n",
    "    return dic\n",
    "\n",
    "def data_formating(raw_df):\n",
    "    df = raw_df\n",
    "    df['Phrase'] = df.Phrase.apply(lambda s: s.lower())\n",
    "    #df = raw_df.assign(PhraseSplit=raw_df.Phrase.apply(lambda s: list2dict(str.split(s, \" \"))))\n",
    "    df = raw_df.assign(PhraseSplit=raw_df.Phrase.apply(lambda s: str.split(str(s), \" \")))\n",
    "    df = df.assign(WordTotal=df.PhraseSplit.apply(lambda l: len(l)), Length=data.Phrase.apply(len))\n",
    "    idx_empty = df[df.Phrase==\" \"].index[0]\n",
    "    df = df.drop(idx_empty)\n",
    "    return df\n",
    "\n",
    "def rvwhitespace(s):\n",
    "    if s=='' or s==' ' :\n",
    "        return ''\n",
    "    if s[0]==' ':\n",
    "        i=1\n",
    "    else:\n",
    "        i=0\n",
    "    if s[-1]==' ':\n",
    "        return s[i:-1]\n",
    "    else:\n",
    "        return s[i:]"
   ]
  },
  {
   "cell_type": "code",
   "execution_count": 3,
   "metadata": {
    "collapsed": false
   },
   "outputs": [],
   "source": [
    "data = pd.read_csv(\"train.tsv\", sep=\"\\t\")\n",
    "data = data_formating(data).reset_index().drop('index', 1).sort_values('WordTotal').reset_index().drop(['index','SentenceId'], axis=1)"
   ]
  },
  {
   "cell_type": "code",
   "execution_count": 4,
   "metadata": {
    "collapsed": false
   },
   "outputs": [],
   "source": [
    "NV = max(data[data.WordTotal==1].index)\n",
    "d = 10\n",
    "P = tf.Variable(tf.random_normal([d, NV]))\n",
    "Ws = tf.Variable(tf.random_normal([5, d]))\n",
    "W  = tf.Variable(tf.random_normal([d, 2*d]))\n",
    "\n",
    "index_rec = np.loadtxt(\"index_rec.txt\", dtype=np.int32)\n",
    "entry_rec = np.loadtxt(\"entry_rec.txt\", dtype=np.int32)\n",
    "\n",
    "index_tf = tf.constant(index_rec, dtype=tf.int32)\n",
    "entry_tf = tf.constant(entry_rec, dtype=tf.int32)\n",
    "\n",
    "def selectfromSoftmax(p):\n",
    "    return tf.nn.softmax(tf.transpose(tf.matmul(Ws, p)))\n",
    "\n",
    "def p_accumulate(p, x):\n",
    "    p_next = tf.transpose([tf.gather( tf.transpose(P), x)])\n",
    "    return tf.nn.tanh( tf.matmul( W, tf.concat(0, [p, p_next] ) )  )\n",
    "\n",
    "def prob(idx):\n",
    "    subidx = entry_tf[index_tf[0,idx]:index_tf[0,idx]+index_tf[1,idx]]\n",
    "    p = tf.cond( tf.less(idx, NV), lambda: tf.transpose([tf.gather( tf.transpose(P), idx)]), lambda: tf.scan(prob_seq, subidx[1:], initializer=prob(subidx[0]))[-1] )\n",
    "    #p = tf.cond( tf.less(idx, NV), lambda: tf.transpose([tf.gather( tf.transpose(P), idx)]), lambda: tf.transpose([tf.gather( tf.transpose(P), idx)]))\n",
    "    #p = tf.transpose([tf.gather( tf.transpose(P), idx)])\n",
    "    return p\n",
    "\n",
    "def prob_seq(p, seq):\n",
    "    p_next = prob(seq)\n",
    "    return tf.nn.tanh( tf.matmul( W, tf.concat(0, [p, p_next] ) )  )\n",
    "\n",
    "def selectfromSoftmax(p):\n",
    "    return tf.nn.softmax(tf.transpose(tf.matmul(Ws, p)))\n",
    "\n",
    "def single_cost(idx, sentiment):\n",
    "    softmax = selectfromSoftmax( prob(idx) )\n",
    "    return - tf.log( softmax[0, sentiment] )\n",
    "\n",
    "def test_a(idx):\n",
    "    return tf.cond(tf.less(tf.constant(3), idx),lambda: idx, lambda: tf.scan(test_b, tf.constant([1,2,3])))\n",
    "def test_b(p, x):\n",
    "    return test_a(x) + p\n",
    "subidx = entry_tf[index_tf[0,41362]:index_tf[0,41362]+index_tf[1,41362]]\n",
    "l = tf.constant(2)"
   ]
  },
  {
   "cell_type": "code",
   "execution_count": 7,
   "metadata": {
    "collapsed": false
   },
   "outputs": [
    {
     "data": {
      "text/plain": [
       "3"
      ]
     },
     "execution_count": 7,
     "metadata": {},
     "output_type": "execute_result"
    }
   ],
   "source": [
    "sess.run(subidx)\n",
    "#sess.run(prob(subidx[1]))\n",
    "#sess.run( tf.cond( tf.less(subidx[0], NV), lambda: l-1, lambda: l+1) )\n",
    "sess.run( tf.scan(lambda p, x: p+x, subidx)[-1] )\n",
    "#sess.run( tf.identity(subidx[0]) + tf.identity(subidx[0]) )\n",
    "#sess.run( tf.scan(prob_seq, subidx[1:], initializer=prob(subidx[0]))[-1] )\n",
    "#sess.run(test_a(2))\n",
    "sess.run( tf.cond(tf.less(3,l), lambda: l, lambda: l+1) )"
   ]
  },
  {
   "cell_type": "code",
   "execution_count": 5,
   "metadata": {
    "collapsed": false
   },
   "outputs": [],
   "source": [
    "init = tf.initialize_all_variables()\n",
    "sess = tf.Session()\n",
    "sess.run(init)\n",
    "#sess.run( tf.scan(prob_seq, subidx[1:], initializer=prob(subidx[0]))[0] )\n",
    "#sess.run( tf.shape(tf.scan(prob_seq, subidx[1:], initializer=prob(subidx[0]))[0]) )\n",
    "#sess.run(subidx[0])"
   ]
  },
  {
   "cell_type": "code",
   "execution_count": null,
   "metadata": {
    "collapsed": false
   },
   "outputs": [],
   "source": [
    "sess.run( tf.cond(tf.less(subidx[0], NV), lambda: tf.transpose([tf.gather( tf.transpose(P), 41362)]), lambda: tf.scan(prob_seq, subidx[1:], initializer=prob(subidx[0]))[0]) )"
   ]
  },
  {
   "cell_type": "code",
   "execution_count": null,
   "metadata": {
    "collapsed": false
   },
   "outputs": [],
   "source": [
    "#sess.close()\n",
    "init = tf.initialize_all_variables()\n",
    "sess = tf.Session()\n",
    "\n",
    "sess.run(init)\n",
    "#sess.run( tf.transpose([tf.gather( tf.transpose(P), tf.constant(20))]) )\n",
    "#sess.run( tf.cond( tf.less(20, NV), lambda: tf.transpose([tf.gather( tf.transpose(P), 20)]), lambda: tf.transpose([tf.gather( tf.transpose(P), 20)]) ) )\n",
    "sess.run(prob(20))"
   ]
  },
  {
   "cell_type": "code",
   "execution_count": null,
   "metadata": {
    "collapsed": false
   },
   "outputs": [],
   "source": [
    "sess.run(prob(subidx[0]))"
   ]
  },
  {
   "cell_type": "code",
   "execution_count": null,
   "metadata": {
    "collapsed": true
   },
   "outputs": [],
   "source": []
  }
 ],
 "metadata": {
  "kernelspec": {
   "display_name": "Python 2",
   "language": "python",
   "name": "python2"
  },
  "language_info": {
   "codemirror_mode": {
    "name": "ipython",
    "version": 2
   },
   "file_extension": ".py",
   "mimetype": "text/x-python",
   "name": "python",
   "nbconvert_exporter": "python",
   "pygments_lexer": "ipython2",
   "version": "2.7.12"
  }
 },
 "nbformat": 4,
 "nbformat_minor": 0
}
